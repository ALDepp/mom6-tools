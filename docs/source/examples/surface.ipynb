{
 "cells": [
  {
   "cell_type": "markdown",
   "metadata": {},
   "source": [
    "# Analysis of Surface Fields\n",
    "\n",
    "`mom6_tools.MOM6grid` returns an object with MOM6 grid data.\n",
    "\n",
    "`mom6_tools.latlon_analysis` has a collection of tools used to perform spatial analysis  (e.g., time averages and spatial mean).\n",
    "\n",
    "The goal of this notebook is the following:\n",
    "\n",
    "1) server as an example of how to post-process CESM/MOM6 output;\n",
    "\n",
    "2) create time averages of surface fields;\n",
    "\n",
    "3) create time-series of globally-averaged surface fields;\n",
    "\n",
    "4) compare model results vs. observations (TODO);\n",
    "\n",
    "5) compare model results vs. another model results (TODO)."
   ]
  },
  {
   "cell_type": "code",
   "execution_count": 1,
   "metadata": {},
   "outputs": [
    {
     "name": "stdout",
     "output_type": "stream",
     "text": [
      "Basemap module not found. Some regional plots may not function properly\n"
     ]
    }
   ],
   "source": [
    "%matplotlib inline\n",
    "from mom6_tools.MOM6grid import MOM6grid\n",
    "from mom6_tools.DiagsCase import DiagsCase\n",
    "from mom6_tools.latlon_analysis import time_mean_latlon\n",
    "import matplotlib.pyplot as plt\n",
    "import warnings, yaml\n",
    "warnings.filterwarnings(\"ignore\")"
   ]
  },
  {
   "cell_type": "code",
   "execution_count": 2,
   "metadata": {},
   "outputs": [],
   "source": [
    "# Read in the yaml file\n",
    "diag_config_yml_path = \"/glade/u/home/gmarques/libs/mom6-tools/docs/source/examples/diag_config.yml\"\n",
    "diag_config_yml = yaml.load(open(diag_config_yml_path,'r'), Loader=yaml.Loader)"
   ]
  },
  {
   "cell_type": "code",
   "execution_count": 3,
   "metadata": {},
   "outputs": [
    {
     "name": "stdout",
     "output_type": "stream",
     "text": [
      "Run directory is: /glade/scratch/gmarques/g.c2b6.GJRA.TL319_t061.long_JRA_mct.076/run\n",
      "Casename is: g.c2b6.GJRA.TL319_t061.long_JRA_mct.076\n"
     ]
    }
   ],
   "source": [
    "# Create the case instance\n",
    "dcase = DiagsCase(diag_config_yml['Case'])\n",
    "RUNDIR = dcase.get_value('RUNDIR')\n",
    "print('Run directory is:', RUNDIR)\n",
    "print('Casename is:', dcase.casename)"
   ]
  },
  {
   "cell_type": "code",
   "execution_count": 4,
   "metadata": {},
   "outputs": [],
   "source": [
    "# The following parameters must be set accordingly\n",
    "######################################################\n",
    "# Path to the run directory\n",
    "path = \"/glade/scratch/gmarques/\"+dcase.casename+\"/run/\"\n",
    "# name of ocean static file\n",
    "static = dcase.casename+'.mom6.static.nc'\n",
    "# name of forcing file\n",
    "surface = dcase.casename+'.mom6.sfc_00*.nc'\n",
    "# initial and final years for computing time mean\n",
    "year_start = 1\n",
    "year_end = 85\n",
    "# array with 2D forcing variables to be processed\n",
    "variables = ['SST','SSS','SSH']\n",
    "# Put your name and email address below\n",
    "author = 'Gustavo Marques (gmarques@ucar.edu)'\n",
    "######################################################\n",
    "# create an empty class object\n",
    "class args:\n",
    "  pass\n",
    "\n",
    "args.infile = path+surface\n",
    "# set avg dates\n",
    "avg = diag_config_yml['Avg']\n",
    "args.start_date = avg['start_date']\n",
    "args.end_date = avg['end_date']\n",
    "args.case_name = dcase.casename\n",
    "args.variables = variables\n",
    "args.savefigs = False\n",
    "args.time_series = True\n",
    "args.nw = 6 # requesting 6 workers"
   ]
  },
  {
   "cell_type": "code",
   "execution_count": 5,
   "metadata": {},
   "outputs": [
    {
     "name": "stdout",
     "output_type": "stream",
     "text": [
      "MOM6 grid successfully loaded... \n",
      "\n",
      "Requesting 6 workers... \n",
      "\n",
      "/proxy/38817/status\n"
     ]
    },
    {
     "ename": "UnboundLocalError",
     "evalue": "local variable 'units' referenced before assignment",
     "output_type": "error",
     "traceback": [
      "\u001b[0;31m---------------------------------------------------------------------------\u001b[0m",
      "\u001b[0;31mUnboundLocalError\u001b[0m                         Traceback (most recent call last)",
      "\u001b[0;32m<ipython-input-5-f6d6526d1eb0>\u001b[0m in \u001b[0;36m<module>\u001b[0;34m\u001b[0m\n\u001b[1;32m      3\u001b[0m \u001b[0;31m# plot time averages. If variables is NOT specified, all 2D variables will be plotted.\u001b[0m\u001b[0;34m\u001b[0m\u001b[0;34m\u001b[0m\u001b[0;34m\u001b[0m\u001b[0m\n\u001b[1;32m      4\u001b[0m \u001b[0;31m#time_mean_latlon_plot(args,grd, variables=args.variables)\u001b[0m\u001b[0;34m\u001b[0m\u001b[0;34m\u001b[0m\u001b[0;34m\u001b[0m\u001b[0m\n\u001b[0;32m----> 5\u001b[0;31m \u001b[0mtime_mean_latlon\u001b[0m\u001b[0;34m(\u001b[0m\u001b[0margs\u001b[0m\u001b[0;34m,\u001b[0m\u001b[0mgrd\u001b[0m\u001b[0;34m)\u001b[0m\u001b[0;34m\u001b[0m\u001b[0;34m\u001b[0m\u001b[0m\n\u001b[0m",
      "\u001b[0;32m~/libs/mom6-tools/mom6_tools/latlon_analysis.py\u001b[0m in \u001b[0;36mtime_mean_latlon\u001b[0;34m(args, grd, variables)\u001b[0m\n\u001b[1;32m    174\u001b[0m       \u001b[0mdtime\u001b[0m \u001b[0;34m=\u001b[0m \u001b[0mds\u001b[0m\u001b[0;34m.\u001b[0m\u001b[0mtime\u001b[0m\u001b[0;34m.\u001b[0m\u001b[0mvalues\u001b[0m\u001b[0;34m\u001b[0m\u001b[0;34m\u001b[0m\u001b[0m\n\u001b[1;32m    175\u001b[0m       \u001b[0mdata\u001b[0m \u001b[0;34m=\u001b[0m \u001b[0mnp\u001b[0m\u001b[0;34m.\u001b[0m\u001b[0mma\u001b[0m\u001b[0;34m.\u001b[0m\u001b[0mmasked_invalid\u001b[0m\u001b[0;34m(\u001b[0m\u001b[0mds1\u001b[0m\u001b[0;34m[\u001b[0m\u001b[0mvar\u001b[0m\u001b[0;34m]\u001b[0m\u001b[0;34m.\u001b[0m\u001b[0mvalues\u001b[0m\u001b[0;34m)\u001b[0m\u001b[0;34m\u001b[0m\u001b[0;34m\u001b[0m\u001b[0m\n\u001b[0;32m--> 176\u001b[0;31m       \u001b[0mds_new\u001b[0m \u001b[0;34m=\u001b[0m \u001b[0mcreate_xarray_dataset\u001b[0m\u001b[0;34m(\u001b[0m\u001b[0mvar\u001b[0m\u001b[0;34m,\u001b[0m\u001b[0munits\u001b[0m\u001b[0;34m,\u001b[0m\u001b[0mdtime\u001b[0m\u001b[0;34m)\u001b[0m\u001b[0;34m\u001b[0m\u001b[0;34m\u001b[0m\u001b[0m\n\u001b[0m\u001b[1;32m    177\u001b[0m       \u001b[0;31m# loop in time\u001b[0m\u001b[0;34m\u001b[0m\u001b[0;34m\u001b[0m\u001b[0;34m\u001b[0m\u001b[0m\n\u001b[1;32m    178\u001b[0m       \u001b[0;32mfor\u001b[0m \u001b[0mt\u001b[0m \u001b[0;32min\u001b[0m \u001b[0mrange\u001b[0m\u001b[0;34m(\u001b[0m\u001b[0;36m0\u001b[0m\u001b[0;34m,\u001b[0m\u001b[0mlen\u001b[0m\u001b[0;34m(\u001b[0m\u001b[0mdtime\u001b[0m\u001b[0;34m)\u001b[0m\u001b[0;34m)\u001b[0m\u001b[0;34m:\u001b[0m\u001b[0;34m\u001b[0m\u001b[0;34m\u001b[0m\u001b[0m\n",
      "\u001b[0;31mUnboundLocalError\u001b[0m: local variable 'units' referenced before assignment"
     ]
    }
   ],
   "source": [
    "# load mom6 grid\n",
    "grd = MOM6grid(path+static)\n",
    "# plot time averages. If variables is NOT specified, all 2D variables will be plotted.\n",
    "#time_mean_latlon_plot(args,grd, variables=args.variables)\n",
    "time_mean_latlon(args,grd)"
   ]
  },
  {
   "cell_type": "code",
   "execution_count": null,
   "metadata": {},
   "outputs": [],
   "source": []
  }
 ],
 "metadata": {
  "kernelspec": {
   "display_name": "analysis",
   "language": "python",
   "name": "analysis"
  },
  "language_info": {
   "codemirror_mode": {
    "name": "ipython",
    "version": 3
   },
   "file_extension": ".py",
   "mimetype": "text/x-python",
   "name": "python",
   "nbconvert_exporter": "python",
   "pygments_lexer": "ipython3",
   "version": "3.7.3"
  },
  "toc": {
   "base_numbering": 1,
   "nav_menu": {},
   "number_sections": true,
   "sideBar": true,
   "skip_h1_title": false,
   "title_cell": "Table of Contents",
   "title_sidebar": "Contents",
   "toc_cell": false,
   "toc_position": {},
   "toc_section_display": true,
   "toc_window_display": false
  },
  "varInspector": {
   "cols": {
    "lenName": 16,
    "lenType": 16,
    "lenVar": 40
   },
   "kernels_config": {
    "python": {
     "delete_cmd_postfix": "",
     "delete_cmd_prefix": "del ",
     "library": "var_list.py",
     "varRefreshCmd": "print(var_dic_list())"
    },
    "r": {
     "delete_cmd_postfix": ") ",
     "delete_cmd_prefix": "rm(",
     "library": "var_list.r",
     "varRefreshCmd": "cat(var_dic_list()) "
    }
   },
   "types_to_exclude": [
    "module",
    "function",
    "builtin_function_or_method",
    "instance",
    "_Feature"
   ],
   "window_display": false
  }
 },
 "nbformat": 4,
 "nbformat_minor": 4
}
